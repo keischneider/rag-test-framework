{
 "cells": [
  {
   "cell_type": "markdown",
   "id": "057a6696",
   "metadata": {},
   "source": [
    "\n",
    "### Let's try utilize openai's reasoning models for better tracing the model's chain of thought during evaluating RAG's responses\n",
    "\n",
    "### Source\n",
    "https://platform.openai.com/docs/guides/reasoning"
   ]
  }
 ],
 "metadata": {
  "language_info": {
   "name": "python"
  }
 },
 "nbformat": 4,
 "nbformat_minor": 5
}
