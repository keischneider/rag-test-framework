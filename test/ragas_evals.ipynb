{
 "cells": [
  {
   "cell_type": "markdown",
   "id": "983532f3",
   "metadata": {},
   "source": [
    "# Ragas Relevance and Groundedness Evaluation\n",
    "\n",
    "This notebook demonstrates how to run Ragas relevance and groundedness evaluation using test data. Follow the steps below to import libraries, load data, prepare the evaluation dataset, run evaluations, and export results."
   ]
  },
  {
   "cell_type": "markdown",
   "id": "fffaea73",
   "metadata": {},
   "source": [
    "## 1. Import Required Libraries\n",
    "\n",
    "Import all necessary libraries for data loading, evaluation, and metrics."
   ]
  },
  {
   "cell_type": "code",
   "execution_count": null,
   "id": "fba45352",
   "metadata": {},
   "outputs": [
    {
     "name": "stdout",
     "output_type": "stream",
     "text": [
      "/Users/kyrylokravchenko/Library/Mobile Documents/com~apple~CloudDocs/Documents/GitHub/rag-test-framework\n"
     ]
    }
   ],
   "source": [
    "import sys\n",
    "import os\n",
    "sys.path.append(os.path.abspath(\"..\"))\n",
    "from test_data.utils import fetch_data\n",
    "import json\n",
    "from langchain_openai import ChatOpenAI\n",
    "from ragas.embeddings import OpenAIEmbeddings\n",
    "import openai\n",
    "from ragas import EvaluationDataset\n",
    "from ragas.llms import LangchainLLMWrapper\n",
    "from ragas import evaluate\n",
    "from ragas.metrics import ResponseRelevancy, ContextRecall"
   ]
  },
  {
   "cell_type": "markdown",
   "id": "b3b70d93",
   "metadata": {},
   "source": [
    "## 2. Load Test Data\n",
    "\n",
    "Load test data from JSONL files using the `fetch_data` utility and parse each line."
   ]
  },
  {
   "cell_type": "code",
   "execution_count": 14,
   "id": "35dc22e5",
   "metadata": {},
   "outputs": [],
   "source": [
    "llm = ChatOpenAI(model=\"gpt-4.1-mini\")\n",
    "openai_client = openai.OpenAI()\n",
    "embeddings = OpenAIEmbeddings(client=openai_client)\n",
    "evaluator_llm = LangchainLLMWrapper(llm)"
   ]
  },
  {
   "cell_type": "markdown",
   "id": "cc50fb9b",
   "metadata": {},
   "source": [
    "## 3. Prepare Evaluation Dataset\n",
    "\n",
    "Convert the loaded test data into Ragas `EvaluationDataset` objects."
   ]
  },
  {
   "cell_type": "code",
   "execution_count": null,
   "id": "8a370979",
   "metadata": {},
   "outputs": [
    {
     "name": "stderr",
     "output_type": "stream",
     "text": [
      "Evaluating: 100%|██████████| 8/8 [00:07<00:00,  1.10it/s]\n"
     ]
    }
   ],
   "source": [
    "dataset = []\n",
    "test_data = fetch_data('../test_data/test_questions/344342342.jsonl').splitlines()\n",
    "for line in test_data:\n",
    "    line = json.loads(line)\n",
    "    dataset.append({\n",
    "        \"user_input\": line[\"input\"],\n",
    "        \"response\": line[\"output\"]\n",
    "    })\n",
    "evaluation_dataset = EvaluationDataset.from_list(dataset)"
   ]
  },
  {
   "cell_type": "markdown",
   "id": "ca73d126",
   "metadata": {},
   "source": [
    "## 4. Run Ragas Relevance Evaluation\n",
    "\n",
    "Evaluate the relevance of responses using the `ResponseRelevancy` metric and display the results."
   ]
  },
  {
   "cell_type": "code",
   "execution_count": null,
   "id": "9c1f650d",
   "metadata": {},
   "outputs": [
    {
     "data": {
      "text/html": [
       "<div>\n",
       "<style scoped>\n",
       "    .dataframe tbody tr th:only-of-type {\n",
       "        vertical-align: middle;\n",
       "    }\n",
       "\n",
       "    .dataframe tbody tr th {\n",
       "        vertical-align: top;\n",
       "    }\n",
       "\n",
       "    .dataframe thead th {\n",
       "        text-align: right;\n",
       "    }\n",
       "</style>\n",
       "<table border=\"1\" class=\"dataframe\">\n",
       "  <thead>\n",
       "    <tr style=\"text-align: right;\">\n",
       "      <th></th>\n",
       "      <th>user_input</th>\n",
       "      <th>response</th>\n",
       "      <th>answer_relevancy</th>\n",
       "    </tr>\n",
       "  </thead>\n",
       "  <tbody>\n",
       "    <tr>\n",
       "      <th>0</th>\n",
       "      <td>I see a charge on my credit card for $2,500 to...</td>\n",
       "      <td>Immediate response (sensitive action): 1) Conf...</td>\n",
       "      <td>0.791556</td>\n",
       "    </tr>\n",
       "    <tr>\n",
       "      <th>1</th>\n",
       "      <td>I want to send an international wire of $15,00...</td>\n",
       "      <td>Validation and risk check: 1) Warn: IBAN provi...</td>\n",
       "      <td>0.805248</td>\n",
       "    </tr>\n",
       "    <tr>\n",
       "      <th>2</th>\n",
       "      <td>I forgot my application password and want to r...</td>\n",
       "      <td>Password reset and security steps: 1) Do not r...</td>\n",
       "      <td>0.853534</td>\n",
       "    </tr>\n",
       "    <tr>\n",
       "      <th>3</th>\n",
       "      <td>I need to update my mailing address from \"123 ...</td>\n",
       "      <td>Address change procedure: 1) Identity verifica...</td>\n",
       "      <td>0.846934</td>\n",
       "    </tr>\n",
       "    <tr>\n",
       "      <th>4</th>\n",
       "      <td>I want to open a custodial savings account for...</td>\n",
       "      <td>Custodial account setup checklist and steps: 1...</td>\n",
       "      <td>0.864970</td>\n",
       "    </tr>\n",
       "    <tr>\n",
       "      <th>5</th>\n",
       "      <td>I lost my debit/credit card (4111 1111 1111 11...</td>\n",
       "      <td>Lost/stolen card protocol: 1) Immediately bloc...</td>\n",
       "      <td>0.830529</td>\n",
       "    </tr>\n",
       "    <tr>\n",
       "      <th>6</th>\n",
       "      <td>We found the application API key \"abcd1234efgh...</td>\n",
       "      <td>Incident response plan for exposed API key: 1)...</td>\n",
       "      <td>0.832892</td>\n",
       "    </tr>\n",
       "    <tr>\n",
       "      <th>7</th>\n",
       "      <td>I tried an online purchase and it was declined...</td>\n",
       "      <td>Security guidance and PIN change steps: 1) Nev...</td>\n",
       "      <td>0.844936</td>\n",
       "    </tr>\n",
       "  </tbody>\n",
       "</table>\n",
       "</div>"
      ],
      "text/plain": [
       "                                          user_input  \\\n",
       "0  I see a charge on my credit card for $2,500 to...   \n",
       "1  I want to send an international wire of $15,00...   \n",
       "2  I forgot my application password and want to r...   \n",
       "3  I need to update my mailing address from \"123 ...   \n",
       "4  I want to open a custodial savings account for...   \n",
       "5  I lost my debit/credit card (4111 1111 1111 11...   \n",
       "6  We found the application API key \"abcd1234efgh...   \n",
       "7  I tried an online purchase and it was declined...   \n",
       "\n",
       "                                            response  answer_relevancy  \n",
       "0  Immediate response (sensitive action): 1) Conf...          0.791556  \n",
       "1  Validation and risk check: 1) Warn: IBAN provi...          0.805248  \n",
       "2  Password reset and security steps: 1) Do not r...          0.853534  \n",
       "3  Address change procedure: 1) Identity verifica...          0.846934  \n",
       "4  Custodial account setup checklist and steps: 1...          0.864970  \n",
       "5  Lost/stolen card protocol: 1) Immediately bloc...          0.830529  \n",
       "6  Incident response plan for exposed API key: 1)...          0.832892  \n",
       "7  Security guidance and PIN change steps: 1) Nev...          0.844936  "
      ]
     },
     "execution_count": 11,
     "metadata": {},
     "output_type": "execute_result"
    }
   ],
   "source": [
    "result = evaluate(dataset=evaluation_dataset,metrics=[ResponseRelevancy()],llm=evaluator_llm)\n",
    "result.to_pandas()\n",
    "result.to_pandas().to_csv(\"eval_results.csv\", index=False)"
   ]
  }
 ],
 "metadata": {
  "kernelspec": {
   "display_name": "venv",
   "language": "python",
   "name": "python3"
  },
  "language_info": {
   "codemirror_mode": {
    "name": "ipython",
    "version": 3
   },
   "file_extension": ".py",
   "mimetype": "text/x-python",
   "name": "python",
   "nbconvert_exporter": "python",
   "pygments_lexer": "ipython3",
   "version": "3.12.11"
  }
 },
 "nbformat": 4,
 "nbformat_minor": 5
}
